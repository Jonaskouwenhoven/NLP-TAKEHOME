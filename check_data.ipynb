{
 "cells": [
  {
   "cell_type": "code",
   "execution_count": null,
   "metadata": {},
   "outputs": [],
   "source": [
    "import pandas as pd\n",
    "\n",
    "\n",
    "sentence = ['The', 'cat', 'is', 'pursuing', 'the', 'dog', '.']\n",
    "output = ['_', 'ARG0', '_', '_', '_', '_', '_', 'ARG1', '_']\n",
    "\n"
   ]
  }
 ],
 "metadata": {
  "language_info": {
   "name": "python"
  },
  "orig_nbformat": 4
 },
 "nbformat": 4,
 "nbformat_minor": 2
}
